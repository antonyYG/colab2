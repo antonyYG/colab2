{
  "nbformat": 4,
  "nbformat_minor": 0,
  "metadata": {
    "colab": {
      "provenance": [],
      "authorship_tag": "ABX9TyM5HJrj8XZV0KNsWYAv2cvq",
      "include_colab_link": true
    },
    "kernelspec": {
      "name": "python3",
      "display_name": "Python 3"
    },
    "language_info": {
      "name": "python"
    }
  },
  "cells": [
    {
      "cell_type": "markdown",
      "metadata": {
        "id": "view-in-github",
        "colab_type": "text"
      },
      "source": [
        "<a href=\"https://colab.research.google.com/github/antonyYG/colab2/blob/main/EJERCICIOS_BASICOS.ipynb\" target=\"_parent\"><img src=\"https://colab.research.google.com/assets/colab-badge.svg\" alt=\"Open In Colab\"/></a>"
      ]
    },
    {
      "cell_type": "code",
      "execution_count": null,
      "metadata": {
        "id": "Y7ApF4MmtdD5"
      },
      "outputs": [],
      "source": []
    },
    {
      "cell_type": "markdown",
      "source": [],
      "metadata": {
        "id": "BhCER8ULuhZk"
      }
    },
    {
      "cell_type": "markdown",
      "source": [
        "Numpy, libreria de ciencia de datos"
      ],
      "metadata": {
        "id": "wJvqcSM6uA_E"
      }
    },
    {
      "cell_type": "code",
      "source": [
        "import numpy as np\n"
      ],
      "metadata": {
        "id": "vjpvoC8MuwfD"
      },
      "execution_count": 1,
      "outputs": []
    },
    {
      "cell_type": "code",
      "source": [
        "array_id = np.array([10,20,30])\n",
        "print(array_id)"
      ],
      "metadata": {
        "colab": {
          "base_uri": "https://localhost:8080/"
        },
        "id": "_OU5MSYNvt9r",
        "outputId": "de4538fa-3219-497b-a3c4-c90cc3173f80"
      },
      "execution_count": 2,
      "outputs": [
        {
          "output_type": "stream",
          "name": "stdout",
          "text": [
            "[10 20 30]\n"
          ]
        }
      ]
    },
    {
      "cell_type": "code",
      "source": [
        "array_id"
      ],
      "metadata": {
        "colab": {
          "base_uri": "https://localhost:8080/"
        },
        "id": "92MLYiAHwXST",
        "outputId": "c9a649e1-578e-4847-8a94-cb3819e7b281"
      },
      "execution_count": 3,
      "outputs": [
        {
          "output_type": "execute_result",
          "data": {
            "text/plain": [
              "array([10, 20, 30])"
            ]
          },
          "metadata": {},
          "execution_count": 3
        }
      ]
    },
    {
      "cell_type": "markdown",
      "source": [
        "ARRAYS DE 2 DIMENSIONES"
      ],
      "metadata": {
        "id": "4cq-M3PNwo4S"
      }
    },
    {
      "cell_type": "code",
      "source": [
        "array_2d = np.array([(10,20,30),(50,60,70)])\n",
        "array_2d"
      ],
      "metadata": {
        "colab": {
          "base_uri": "https://localhost:8080/"
        },
        "id": "x0MbeBDhwuB6",
        "outputId": "b37ac649-f300-4803-c702-7fa40ccefbbf"
      },
      "execution_count": 4,
      "outputs": [
        {
          "output_type": "execute_result",
          "data": {
            "text/plain": [
              "array([[10, 20, 30],\n",
              "       [50, 60, 70]])"
            ]
          },
          "metadata": {},
          "execution_count": 4
        }
      ]
    },
    {
      "cell_type": "code",
      "source": [
        "array_3d = np.array([(10,30,40),(50,60,70),(80,80,90)],dtype=\"float\")\n",
        "array_3d"
      ],
      "metadata": {
        "colab": {
          "base_uri": "https://localhost:8080/"
        },
        "id": "N_kSJyVkxukK",
        "outputId": "a340abe9-f86b-441c-b1b4-f5c235dda2ce"
      },
      "execution_count": 61,
      "outputs": [
        {
          "output_type": "execute_result",
          "data": {
            "text/plain": [
              "array([[10., 30., 40.],\n",
              "       [50., 60., 70.],\n",
              "       [80., 80., 90.]])"
            ]
          },
          "metadata": {},
          "execution_count": 61
        }
      ]
    },
    {
      "cell_type": "markdown",
      "source": [
        "Array con cesro de 3 filas y 4 columnas"
      ],
      "metadata": {
        "id": "AzGi7Fji4RgS"
      }
    },
    {
      "cell_type": "code",
      "source": [
        "np.zeros([3,4])"
      ],
      "metadata": {
        "colab": {
          "base_uri": "https://localhost:8080/"
        },
        "id": "T7NQAO2f4WGi",
        "outputId": "653f182f-8034-427c-a2ee-70167137b0b8"
      },
      "execution_count": 6,
      "outputs": [
        {
          "output_type": "execute_result",
          "data": {
            "text/plain": [
              "array([[0., 0., 0., 0.],\n",
              "       [0., 0., 0., 0.],\n",
              "       [0., 0., 0., 0.]])"
            ]
          },
          "metadata": {},
          "execution_count": 6
        }
      ]
    },
    {
      "cell_type": "code",
      "source": [
        "print(np.zeros([4,4]))"
      ],
      "metadata": {
        "colab": {
          "base_uri": "https://localhost:8080/"
        },
        "id": "O1nfRoYQ4jTY",
        "outputId": "e1159c3d-f504-4898-bb21-34097cf0ce72"
      },
      "execution_count": 7,
      "outputs": [
        {
          "output_type": "stream",
          "name": "stdout",
          "text": [
            "[[0. 0. 0. 0.]\n",
            " [0. 0. 0. 0.]\n",
            " [0. 0. 0. 0.]\n",
            " [0. 0. 0. 0.]]\n"
          ]
        }
      ]
    },
    {
      "cell_type": "markdown",
      "source": [
        "Array de unos con dos dimensiones de 4 x 5"
      ],
      "metadata": {
        "id": "77PLV3So40Wo"
      }
    },
    {
      "cell_type": "code",
      "source": [
        "np.ones((2,4,5))"
      ],
      "metadata": {
        "colab": {
          "base_uri": "https://localhost:8080/"
        },
        "id": "ndmK-sk-46TP",
        "outputId": "2b384e3a-bdb5-44cf-a08f-371f2d1bec44"
      },
      "execution_count": 8,
      "outputs": [
        {
          "output_type": "execute_result",
          "data": {
            "text/plain": [
              "array([[[1., 1., 1., 1., 1.],\n",
              "        [1., 1., 1., 1., 1.],\n",
              "        [1., 1., 1., 1., 1.],\n",
              "        [1., 1., 1., 1., 1.]],\n",
              "\n",
              "       [[1., 1., 1., 1., 1.],\n",
              "        [1., 1., 1., 1., 1.],\n",
              "        [1., 1., 1., 1., 1.],\n",
              "        [1., 1., 1., 1., 1.]]])"
            ]
          },
          "metadata": {},
          "execution_count": 8
        }
      ]
    },
    {
      "cell_type": "markdown",
      "source": [
        "ARRAYS INTERVALOS Y SALTOS"
      ],
      "metadata": {
        "id": "0T1zX5Ee5VFv"
      }
    },
    {
      "cell_type": "code",
      "source": [
        "np.arange(15,30,3)"
      ],
      "metadata": {
        "colab": {
          "base_uri": "https://localhost:8080/"
        },
        "id": "57HluKJp5ZNn",
        "outputId": "2fae859b-ff11-4414-e030-ca1392f30ef2"
      },
      "execution_count": 9,
      "outputs": [
        {
          "output_type": "execute_result",
          "data": {
            "text/plain": [
              "array([15, 18, 21, 24, 27])"
            ]
          },
          "metadata": {},
          "execution_count": 9
        }
      ]
    },
    {
      "cell_type": "markdown",
      "source": [
        "Array con intervalos y divisiones"
      ],
      "metadata": {
        "id": "5__pKu2q77UI"
      }
    },
    {
      "cell_type": "code",
      "source": [
        "np.linspace(0,4,7)"
      ],
      "metadata": {
        "colab": {
          "base_uri": "https://localhost:8080/"
        },
        "id": "RPpd9EKS8AZn",
        "outputId": "bd6d960f-fa5c-4549-b713-97efa4604ba9"
      },
      "execution_count": 10,
      "outputs": [
        {
          "output_type": "execute_result",
          "data": {
            "text/plain": [
              "array([0.        , 0.66666667, 1.33333333, 2.        , 2.66666667,\n",
              "       3.33333333, 4.        ])"
            ]
          },
          "metadata": {},
          "execution_count": 10
        }
      ]
    },
    {
      "cell_type": "markdown",
      "source": [
        "Arrays con valores dados"
      ],
      "metadata": {
        "id": "Q0w2al408jrI"
      }
    },
    {
      "cell_type": "code",
      "source": [
        "np.full((3,3),7)"
      ],
      "metadata": {
        "colab": {
          "base_uri": "https://localhost:8080/"
        },
        "id": "eU92l9C88nZ4",
        "outputId": "ab3f200e-be42-4b96-e7c2-3b4ee76b7528"
      },
      "execution_count": 11,
      "outputs": [
        {
          "output_type": "execute_result",
          "data": {
            "text/plain": [
              "array([[7, 7, 7],\n",
              "       [7, 7, 7],\n",
              "       [7, 7, 7]])"
            ]
          },
          "metadata": {},
          "execution_count": 11
        }
      ]
    },
    {
      "cell_type": "markdown",
      "source": [
        "Array con matriz identidad, diagonal de unos"
      ],
      "metadata": {
        "id": "2AoucU5m87qP"
      }
    },
    {
      "cell_type": "code",
      "source": [
        "np.eye(3)"
      ],
      "metadata": {
        "colab": {
          "base_uri": "https://localhost:8080/"
        },
        "id": "TJglUDRB9Brw",
        "outputId": "4fd0b0dd-b3d5-4e19-b903-7562d6f047fa"
      },
      "execution_count": 12,
      "outputs": [
        {
          "output_type": "execute_result",
          "data": {
            "text/plain": [
              "array([[1., 0., 0.],\n",
              "       [0., 1., 0.],\n",
              "       [0., 0., 1.]])"
            ]
          },
          "metadata": {},
          "execution_count": 12
        }
      ]
    },
    {
      "cell_type": "markdown",
      "source": [
        "Array valores aleatorios de 0 y unos"
      ],
      "metadata": {
        "id": "PQC_Z0dG-d2n"
      }
    },
    {
      "cell_type": "code",
      "source": [
        "np.random.random((4,4))"
      ],
      "metadata": {
        "colab": {
          "base_uri": "https://localhost:8080/"
        },
        "id": "qEhaRuVH-iPe",
        "outputId": "179f3529-d9f7-4780-d582-123d7513f51e"
      },
      "execution_count": 13,
      "outputs": [
        {
          "output_type": "execute_result",
          "data": {
            "text/plain": [
              "array([[0.43522607, 0.97666154, 0.30192767, 0.34186417],\n",
              "       [0.25349912, 0.64272591, 0.85773274, 0.02231628],\n",
              "       [0.83695694, 0.38498238, 0.27271524, 0.94805003],\n",
              "       [0.39044298, 0.46907563, 0.84104977, 0.93030824]])"
            ]
          },
          "metadata": {},
          "execution_count": 13
        }
      ]
    },
    {
      "cell_type": "markdown",
      "source": [
        "Array de numeros vacios 4 x 3"
      ],
      "metadata": {
        "id": "Xshbfx9V_Cuw"
      }
    },
    {
      "cell_type": "code",
      "source": [
        "np.empty((4,3))"
      ],
      "metadata": {
        "colab": {
          "base_uri": "https://localhost:8080/"
        },
        "id": "U-eYWM41_GYo",
        "outputId": "58904ce9-8ce7-4465-96da-56f70ce84db0"
      },
      "execution_count": 14,
      "outputs": [
        {
          "output_type": "execute_result",
          "data": {
            "text/plain": [
              "array([[0., 0., 0.],\n",
              "       [0., 0., 0.],\n",
              "       [0., 0., 0.],\n",
              "       [0., 0., 0.]])"
            ]
          },
          "metadata": {},
          "execution_count": 14
        }
      ]
    },
    {
      "cell_type": "markdown",
      "source": [
        "grabar y cargar"
      ],
      "metadata": {
        "id": "hdImpdKBBXhO"
      }
    },
    {
      "cell_type": "code",
      "source": [
        "#grabar\n",
        "np.save('mi_array_2d',array_2d)"
      ],
      "metadata": {
        "id": "lqVnDWUCBf72"
      },
      "execution_count": 15,
      "outputs": []
    },
    {
      "cell_type": "code",
      "source": [
        "#cargar\n",
        "mi_array = np.load('mi_array_2d.npy')\n",
        "mi_array"
      ],
      "metadata": {
        "colab": {
          "base_uri": "https://localhost:8080/"
        },
        "id": "Ii2ZX0MZChb-",
        "outputId": "82dddcd8-6a72-464c-e866-53d926836a9f"
      },
      "execution_count": 16,
      "outputs": [
        {
          "output_type": "execute_result",
          "data": {
            "text/plain": [
              "array([[10, 20, 30],\n",
              "       [50, 60, 70]])"
            ]
          },
          "metadata": {},
          "execution_count": 16
        }
      ]
    },
    {
      "cell_type": "markdown",
      "source": [
        "Grabar y cargar ficheros de texto"
      ],
      "metadata": {
        "id": "QAHgfN3SE39d"
      }
    },
    {
      "cell_type": "code",
      "source": [
        "#grabar el fichero de texto\n",
        "np.savetxt('mi_array.txt',array_2d,delimiter=\" \")"
      ],
      "metadata": {
        "id": "_H-Z2jiwE7DO"
      },
      "execution_count": 17,
      "outputs": []
    },
    {
      "cell_type": "code",
      "source": [
        "#cargar del fichero de texto\n",
        "np.loadtxt('mi_array.txt')"
      ],
      "metadata": {
        "colab": {
          "base_uri": "https://localhost:8080/"
        },
        "id": "99r4gGo8GFbF",
        "outputId": "083e46dc-e524-4286-ac79-c9a024fe3f9e"
      },
      "execution_count": 18,
      "outputs": [
        {
          "output_type": "execute_result",
          "data": {
            "text/plain": [
              "array([[10., 20., 30.],\n",
              "       [50., 60., 70.]])"
            ]
          },
          "metadata": {},
          "execution_count": 18
        }
      ]
    },
    {
      "cell_type": "markdown",
      "source": [
        "TIPOS DE DATOS"
      ],
      "metadata": {
        "id": "Pk_WuEFjgqlE"
      }
    },
    {
      "cell_type": "code",
      "source": [
        "#ENTEROS\n",
        "np.int64"
      ],
      "metadata": {
        "colab": {
          "base_uri": "https://localhost:8080/"
        },
        "id": "asqtXxV6gxWF",
        "outputId": "74676785-d386-4d07-c7e5-20cce1f6f943"
      },
      "execution_count": 19,
      "outputs": [
        {
          "output_type": "execute_result",
          "data": {
            "text/plain": [
              "numpy.int64"
            ]
          },
          "metadata": {},
          "execution_count": 19
        }
      ]
    },
    {
      "cell_type": "code",
      "source": [
        "#Decimal, floatantes\n",
        "np.float64"
      ],
      "metadata": {
        "colab": {
          "base_uri": "https://localhost:8080/"
        },
        "id": "jnNgMuDFhMkX",
        "outputId": "e559d005-50a0-43be-9392-c9502a0147d6"
      },
      "execution_count": 20,
      "outputs": [
        {
          "output_type": "execute_result",
          "data": {
            "text/plain": [
              "numpy.float64"
            ]
          },
          "metadata": {},
          "execution_count": 20
        }
      ]
    },
    {
      "cell_type": "code",
      "source": [
        "#Complejos\n",
        "np.complex64"
      ],
      "metadata": {
        "colab": {
          "base_uri": "https://localhost:8080/"
        },
        "id": "8Z7gFHEphcE3",
        "outputId": "ba1ecea3-9ba6-4d5f-c7ad-636af044c6f5"
      },
      "execution_count": 21,
      "outputs": [
        {
          "output_type": "execute_result",
          "data": {
            "text/plain": [
              "numpy.complex64"
            ]
          },
          "metadata": {},
          "execution_count": 21
        }
      ]
    },
    {
      "cell_type": "code",
      "source": [
        "#Booleanos\n",
        "np.bool_"
      ],
      "metadata": {
        "colab": {
          "base_uri": "https://localhost:8080/"
        },
        "id": "IVfni4vtjLQW",
        "outputId": "eca8b016-5c31-4f2c-ff10-6bae5f211e46"
      },
      "execution_count": 22,
      "outputs": [
        {
          "output_type": "execute_result",
          "data": {
            "text/plain": [
              "numpy.bool"
            ]
          },
          "metadata": {},
          "execution_count": 22
        }
      ]
    },
    {
      "cell_type": "code",
      "source": [
        "#objetos\n",
        "np.object_"
      ],
      "metadata": {
        "colab": {
          "base_uri": "https://localhost:8080/"
        },
        "id": "gNrl5pSXlbZl",
        "outputId": "de334ead-ffd9-4b4f-c236-0ee5747a3ffa"
      },
      "execution_count": 23,
      "outputs": [
        {
          "output_type": "execute_result",
          "data": {
            "text/plain": [
              "numpy.object_"
            ]
          },
          "metadata": {},
          "execution_count": 23
        }
      ]
    },
    {
      "cell_type": "code",
      "source": [
        "#cadenas de text\n",
        "np.strings"
      ],
      "metadata": {
        "colab": {
          "base_uri": "https://localhost:8080/"
        },
        "id": "w7w7iT2YljpE",
        "outputId": "fecab461-389e-4e3a-d429-933a8409c22a"
      },
      "execution_count": 24,
      "outputs": [
        {
          "output_type": "execute_result",
          "data": {
            "text/plain": [
              "<module 'numpy.strings' from '/usr/local/lib/python3.11/dist-packages/numpy/strings/__init__.py'>"
            ]
          },
          "metadata": {},
          "execution_count": 24
        }
      ]
    },
    {
      "cell_type": "code",
      "source": [
        "np.bytes_"
      ],
      "metadata": {
        "colab": {
          "base_uri": "https://localhost:8080/"
        },
        "id": "VI8DlXPHmGTu",
        "outputId": "36022e22-2c7e-406f-9ed9-636a686aeeaf"
      },
      "execution_count": 25,
      "outputs": [
        {
          "output_type": "execute_result",
          "data": {
            "text/plain": [
              "numpy.bytes_"
            ]
          },
          "metadata": {},
          "execution_count": 25
        }
      ]
    },
    {
      "cell_type": "markdown",
      "source": [
        "PROPIEDADES Y CARACTERISTICAS DE ENTORNOS"
      ],
      "metadata": {
        "id": "Yi06eBz6muvH"
      }
    },
    {
      "cell_type": "code",
      "source": [
        "array_3d"
      ],
      "metadata": {
        "colab": {
          "base_uri": "https://localhost:8080/"
        },
        "id": "vqRR_eC6m4aZ",
        "outputId": "53544cba-f06e-4e6c-da76-cd72c81c1603"
      },
      "execution_count": 35,
      "outputs": [
        {
          "output_type": "execute_result",
          "data": {
            "text/plain": [
              "array([[10, 30, 40],\n",
              "       [50, 60, 70],\n",
              "       [80, 80, 90]])"
            ]
          },
          "metadata": {},
          "execution_count": 35
        }
      ]
    },
    {
      "cell_type": "code",
      "source": [
        "array_3d.shape"
      ],
      "metadata": {
        "colab": {
          "base_uri": "https://localhost:8080/"
        },
        "id": "CUcqILQBnVhJ",
        "outputId": "c03659e5-c651-410d-816a-de0a212bf852"
      },
      "execution_count": 28,
      "outputs": [
        {
          "output_type": "execute_result",
          "data": {
            "text/plain": [
              "(3, 3)"
            ]
          },
          "metadata": {},
          "execution_count": 28
        }
      ]
    },
    {
      "cell_type": "code",
      "source": [
        "#longitud\n",
        "len(array_3d)"
      ],
      "metadata": {
        "colab": {
          "base_uri": "https://localhost:8080/"
        },
        "id": "DcLPPHDHnkV6",
        "outputId": "47c3085e-71fb-4b9a-bc58-55e87014d667"
      },
      "execution_count": 31,
      "outputs": [
        {
          "output_type": "execute_result",
          "data": {
            "text/plain": [
              "3"
            ]
          },
          "metadata": {},
          "execution_count": 31
        }
      ]
    },
    {
      "cell_type": "code",
      "source": [
        "#numero de dimensiones\n",
        "array_3d.ndim"
      ],
      "metadata": {
        "colab": {
          "base_uri": "https://localhost:8080/"
        },
        "id": "tO4u9dopoFkr",
        "outputId": "427dd991-ade0-4280-e28f-b013c0ff5480"
      },
      "execution_count": 40,
      "outputs": [
        {
          "output_type": "execute_result",
          "data": {
            "text/plain": [
              "2"
            ]
          },
          "metadata": {},
          "execution_count": 40
        }
      ]
    },
    {
      "cell_type": "code",
      "source": [
        "a=np.array([[[[[1, 2], [3, 4]], [[5, 6], [7, 8]]], [[[9, 10], [11, 12]], [[13, 14], [15, 16]]]]])"
      ],
      "metadata": {
        "id": "8HQQbbpWpUPl"
      },
      "execution_count": 58,
      "outputs": []
    },
    {
      "cell_type": "code",
      "source": [
        "a.ndim"
      ],
      "metadata": {
        "colab": {
          "base_uri": "https://localhost:8080/"
        },
        "id": "lq4Hvz2WsHTD",
        "outputId": "e1e707dc-03a8-4909-afc7-b500f9499f02"
      },
      "execution_count": 59,
      "outputs": [
        {
          "output_type": "execute_result",
          "data": {
            "text/plain": [
              "5"
            ]
          },
          "metadata": {},
          "execution_count": 59
        }
      ]
    },
    {
      "cell_type": "code",
      "source": [
        "#tipos de datos\n",
        "array_3d.dtype"
      ],
      "metadata": {
        "colab": {
          "base_uri": "https://localhost:8080/"
        },
        "id": "SPDWmOnasWga",
        "outputId": "b227e10b-7b07-4477-c0dd-fd5b500d8b8a"
      },
      "execution_count": 62,
      "outputs": [
        {
          "output_type": "execute_result",
          "data": {
            "text/plain": [
              "dtype('float64')"
            ]
          },
          "metadata": {},
          "execution_count": 62
        }
      ]
    },
    {
      "cell_type": "code",
      "source": [
        "array_3d.dtype.name"
      ],
      "metadata": {
        "colab": {
          "base_uri": "https://localhost:8080/",
          "height": 35
        },
        "id": "YtjnFSVMsvbj",
        "outputId": "c3d4f818-24e8-45c3-a5cc-db4735a7c2b7"
      },
      "execution_count": 63,
      "outputs": [
        {
          "output_type": "execute_result",
          "data": {
            "text/plain": [
              "'float64'"
            ],
            "application/vnd.google.colaboratory.intrinsic+json": {
              "type": "string"
            }
          },
          "metadata": {},
          "execution_count": 63
        }
      ]
    },
    {
      "cell_type": "code",
      "source": [
        "array_3d"
      ],
      "metadata": {
        "colab": {
          "base_uri": "https://localhost:8080/"
        },
        "id": "Z2DTfmRps7Kd",
        "outputId": "c310e2aa-c63f-4338-ab0c-3248547f48a8"
      },
      "execution_count": 65,
      "outputs": [
        {
          "output_type": "execute_result",
          "data": {
            "text/plain": [
              "array([[10., 30., 40.],\n",
              "       [50., 60., 70.],\n",
              "       [80., 80., 90.]])"
            ]
          },
          "metadata": {},
          "execution_count": 65
        }
      ]
    },
    {
      "cell_type": "code",
      "source": [
        "#convertir de un tipo a otro tipo de dato\n",
        "array_3d.astype(int)"
      ],
      "metadata": {
        "colab": {
          "base_uri": "https://localhost:8080/"
        },
        "id": "HxudezLdtDVs",
        "outputId": "91974e4c-c7c6-4a15-c071-bb75006669e7"
      },
      "execution_count": 73,
      "outputs": [
        {
          "output_type": "execute_result",
          "data": {
            "text/plain": [
              "array([[10, 30, 40],\n",
              "       [50, 60, 70],\n",
              "       [80, 80, 90]])"
            ]
          },
          "metadata": {},
          "execution_count": 73
        }
      ]
    },
    {
      "cell_type": "markdown",
      "source": [
        "Operadores matematicos"
      ],
      "metadata": {
        "id": "JaCYKKjht7cd"
      }
    },
    {
      "cell_type": "code",
      "source": [
        "array_id"
      ],
      "metadata": {
        "colab": {
          "base_uri": "https://localhost:8080/"
        },
        "id": "8WfYfDact9Ru",
        "outputId": "fe62f6bb-a320-4c83-c9a2-2a8467b23b5e"
      },
      "execution_count": 74,
      "outputs": [
        {
          "output_type": "execute_result",
          "data": {
            "text/plain": [
              "array([10, 20, 30])"
            ]
          },
          "metadata": {},
          "execution_count": 74
        }
      ]
    },
    {
      "cell_type": "code",
      "source": [
        "#array de ejmplos\n",
        "array1 = np.random.random([4,4])\n",
        "array1"
      ],
      "metadata": {
        "colab": {
          "base_uri": "https://localhost:8080/"
        },
        "id": "Nl3heWWfuNEV",
        "outputId": "3c93b9bd-b949-41e2-dcd6-0bceef618a95"
      },
      "execution_count": 75,
      "outputs": [
        {
          "output_type": "execute_result",
          "data": {
            "text/plain": [
              "array([[0.99850523, 0.93682957, 0.16430795, 0.94314313],\n",
              "       [0.22259848, 0.62297715, 0.1076509 , 0.59303357],\n",
              "       [0.35359785, 0.62840834, 0.87646969, 0.52574589],\n",
              "       [0.01236074, 0.71850434, 0.34920134, 0.16846826]])"
            ]
          },
          "metadata": {},
          "execution_count": 75
        }
      ]
    },
    {
      "cell_type": "code",
      "source": [
        "array2=np.random.random([4,4])\n",
        "array2"
      ],
      "metadata": {
        "colab": {
          "base_uri": "https://localhost:8080/"
        },
        "id": "ylmnmQ7Zuia2",
        "outputId": "4fe55e20-3f6f-4a51-878c-186b63208966"
      },
      "execution_count": 77,
      "outputs": [
        {
          "output_type": "execute_result",
          "data": {
            "text/plain": [
              "array([[0.98457121, 0.40028444, 0.3996612 , 0.46645083],\n",
              "       [0.49603115, 0.9862152 , 0.8048506 , 0.70247976],\n",
              "       [0.50742093, 0.73475983, 0.89832788, 0.42104252],\n",
              "       [0.41671087, 0.718465  , 0.66971818, 0.67226239]])"
            ]
          },
          "metadata": {},
          "execution_count": 77
        }
      ]
    },
    {
      "cell_type": "code",
      "source": [
        "array3 = np.random.random([4,4])\n",
        "array3"
      ],
      "metadata": {
        "colab": {
          "base_uri": "https://localhost:8080/"
        },
        "id": "kePsgicmuv-m",
        "outputId": "6040a038-afc9-41e1-be72-232936b0a810"
      },
      "execution_count": 78,
      "outputs": [
        {
          "output_type": "execute_result",
          "data": {
            "text/plain": [
              "array([[0.53838807, 0.4394656 , 0.9379243 , 0.79471398],\n",
              "       [0.68815615, 0.2294195 , 0.96808848, 0.30063131],\n",
              "       [0.77869871, 0.66101082, 0.57449774, 0.511312  ],\n",
              "       [0.69266546, 0.8083546 , 0.35008447, 0.68163481]])"
            ]
          },
          "metadata": {},
          "execution_count": 78
        }
      ]
    },
    {
      "cell_type": "code",
      "source": [
        "#SUMA\n",
        "array4 = array1 + array2 + array3\n",
        "array4"
      ],
      "metadata": {
        "colab": {
          "base_uri": "https://localhost:8080/"
        },
        "id": "1FTFE2D7u_Jm",
        "outputId": "84b3317f-5d1c-46c2-b9ba-b89eaf5f0265"
      },
      "execution_count": 83,
      "outputs": [
        {
          "output_type": "execute_result",
          "data": {
            "text/plain": [
              "array([[3.96615288, 2.67422802, 1.12793829, 2.8191879 ],\n",
              "       [1.43725926, 3.21838469, 1.82500299, 2.59102666],\n",
              "       [1.72203756, 2.72633634, 3.54959514, 1.89357683],\n",
              "       [0.85814321, 2.8739387 , 2.03783904, 1.68146131]])"
            ]
          },
          "metadata": {},
          "execution_count": 83
        }
      ]
    },
    {
      "cell_type": "code",
      "source": [
        "#otra forma para sumar\n",
        "array4 = np.add(array1,array2,array3)\n",
        "array4"
      ],
      "metadata": {
        "colab": {
          "base_uri": "https://localhost:8080/"
        },
        "id": "M-oZ1w7cvSB3",
        "outputId": "3dca8bed-4d70-45fd-e35d-d0a659462f8b"
      },
      "execution_count": 85,
      "outputs": [
        {
          "output_type": "execute_result",
          "data": {
            "text/plain": [
              "array([[1.98307644, 1.33711401, 0.56396915, 1.40959395],\n",
              "       [0.71862963, 1.60919234, 0.91250149, 1.29551333],\n",
              "       [0.86101878, 1.36316817, 1.77479757, 0.94678841],\n",
              "       [0.42907161, 1.43696935, 1.01891952, 0.84073065]])"
            ]
          },
          "metadata": {},
          "execution_count": 85
        }
      ]
    },
    {
      "cell_type": "code",
      "source": [
        "#Resta\n",
        "array4 = array1-array2-array3\n",
        "array4"
      ],
      "metadata": {
        "colab": {
          "base_uri": "https://localhost:8080/"
        },
        "id": "NPKMxW0dvodI",
        "outputId": "ac6816f3-4a29-420c-bdf7-c7fc616d0a3e"
      },
      "execution_count": 86,
      "outputs": [
        {
          "output_type": "execute_result",
          "data": {
            "text/plain": [
              "array([[-1.96914241, -0.80056887, -0.7993224 , -0.93290165],\n",
              "       [-0.9920623 , -1.9724304 , -1.60970119, -1.40495953],\n",
              "       [-1.01484186, -1.46951966, -1.79665575, -0.84208505],\n",
              "       [-0.83342174, -1.43693001, -1.33943636, -1.34452478]])"
            ]
          },
          "metadata": {},
          "execution_count": 86
        }
      ]
    },
    {
      "cell_type": "code",
      "source": [
        "#Multiplicacion\n",
        "array4 = np.multiply(array1,array2,array3)\n",
        "array4"
      ],
      "metadata": {
        "colab": {
          "base_uri": "https://localhost:8080/"
        },
        "id": "Ui1wjIvNwLio",
        "outputId": "726c6593-a3b1-4ae8-b095-306f0ab59a1c"
      },
      "execution_count": 87,
      "outputs": [
        {
          "output_type": "execute_result",
          "data": {
            "text/plain": [
              "array([[0.9830995 , 0.3749983 , 0.06566751, 0.43992989],\n",
              "       [0.11041578, 0.61438953, 0.08664289, 0.41659408],\n",
              "       [0.17942295, 0.46172921, 0.78735716, 0.22136138],\n",
              "       [0.00515085, 0.51622023, 0.23386649, 0.11325488]])"
            ]
          },
          "metadata": {},
          "execution_count": 87
        }
      ]
    },
    {
      "cell_type": "code",
      "source": [
        "#Division\n",
        "array4 = np.divide(array1,array2)\n",
        "array4"
      ],
      "metadata": {
        "colab": {
          "base_uri": "https://localhost:8080/"
        },
        "id": "dwxZRtiNw9qB",
        "outputId": "dddd6a7a-e071-4de9-9179-f9fd29ac4562"
      },
      "execution_count": 89,
      "outputs": [
        {
          "output_type": "execute_result",
          "data": {
            "text/plain": [
              "array([[1.01415238, 2.34040969, 0.41111809, 2.02195617],\n",
              "       [0.44875908, 0.6316848 , 0.13375265, 0.84420022],\n",
              "       [0.6968531 , 0.85525681, 0.97566792, 1.24867646],\n",
              "       [0.02966262, 1.00005476, 0.52141535, 0.25059897]])"
            ]
          },
          "metadata": {},
          "execution_count": 89
        }
      ]
    },
    {
      "cell_type": "code",
      "source": [
        "#Exponentes\n",
        "array4 = np.exp(array1)\n",
        "array4"
      ],
      "metadata": {
        "colab": {
          "base_uri": "https://localhost:8080/"
        },
        "id": "dtmOqJPqxvmq",
        "outputId": "a87cd8ef-96d9-41a0-ef3a-972bdd20cf0b"
      },
      "execution_count": 91,
      "outputs": [
        {
          "output_type": "execute_result",
          "data": {
            "text/plain": [
              "array([[2.71422167, 2.55187803, 1.1785772 , 2.56804042],\n",
              "       [1.24931885, 1.86447059, 1.1136589 , 1.80946925],\n",
              "       [1.42418234, 1.87462445, 2.4024035 , 1.69172021],\n",
              "       [1.01243745, 2.05136278, 1.41793465, 1.18349067]])"
            ]
          },
          "metadata": {},
          "execution_count": 91
        }
      ]
    },
    {
      "cell_type": "code",
      "source": [
        "#Operadores trigonometricos\n",
        "array4 = np.sin(array1)\n",
        "array4"
      ],
      "metadata": {
        "colab": {
          "base_uri": "https://localhost:8080/"
        },
        "id": "zIGOxueKyC-B",
        "outputId": "8a71a25a-045c-4b32-f27b-115fd61e2196"
      },
      "execution_count": 92,
      "outputs": [
        {
          "output_type": "execute_result",
          "data": {
            "text/plain": [
              "array([[0.84066242, 0.80568416, 0.16356964, 0.80940789],\n",
              "       [0.22076473, 0.58345562, 0.1074431 , 0.55887917],\n",
              "       [0.3462753 , 0.58785791, 0.76848474, 0.5018583 ],\n",
              "       [0.01236042, 0.65825949, 0.34214746, 0.1676725 ]])"
            ]
          },
          "metadata": {},
          "execution_count": 92
        }
      ]
    },
    {
      "cell_type": "code",
      "source": [
        "array4 = np.cos(array1)\n",
        "array4"
      ],
      "metadata": {
        "colab": {
          "base_uri": "https://localhost:8080/"
        },
        "id": "AaVxUQ7_yOXq",
        "outputId": "0c9138a5-4f5a-48c0-cd9f-1334b86a8153"
      },
      "execution_count": 93,
      "outputs": [
        {
          "output_type": "execute_result",
          "data": {
            "text/plain": [
              "array([[0.5415595 , 0.59234536, 0.98653179, 0.58724686],\n",
              "       [0.97532709, 0.81214503, 0.99421124, 0.8292491 ],\n",
              "       [0.93813294, 0.8089642 , 0.63986811, 0.86494985],\n",
              "       [0.99992361, 0.7527911 , 0.93964627, 0.98584275]])"
            ]
          },
          "metadata": {},
          "execution_count": 93
        }
      ]
    },
    {
      "cell_type": "code",
      "source": [
        "#logaritmo\n",
        "array4 =np.log(array1)\n",
        "array4"
      ],
      "metadata": {
        "colab": {
          "base_uri": "https://localhost:8080/"
        },
        "id": "uhxixGVkyTL5",
        "outputId": "6c986408-9dfd-423c-c537-c619c90e7210"
      },
      "execution_count": 96,
      "outputs": [
        {
          "output_type": "execute_result",
          "data": {
            "text/plain": [
              "array([[-1.49588385e-03, -6.52538998e-02, -1.80601288e+00,\n",
              "        -5.85372305e-02],\n",
              "       [-1.50238567e+00, -4.73245444e-01, -2.22886171e+00,\n",
              "        -5.22504275e-01],\n",
              "       [-1.03959503e+00, -4.64565095e-01, -1.31853151e-01,\n",
              "        -6.42937283e-01],\n",
              "       [-4.39323022e+00, -3.30583528e-01, -1.05210662e+00,\n",
              "        -1.78100789e+00]])"
            ]
          },
          "metadata": {},
          "execution_count": 96
        }
      ]
    },
    {
      "cell_type": "markdown",
      "source": [
        "COMPARACIONES ENTRE MATRICES"
      ],
      "metadata": {
        "id": "8ahc8Q-ByxF4"
      }
    },
    {
      "cell_type": "code",
      "source": [
        "# ==\n",
        "array1 == array2"
      ],
      "metadata": {
        "colab": {
          "base_uri": "https://localhost:8080/"
        },
        "id": "VaHac5T7y0Tb",
        "outputId": "00527da7-f456-4bbd-b69c-0f47e14538e8"
      },
      "execution_count": 97,
      "outputs": [
        {
          "output_type": "execute_result",
          "data": {
            "text/plain": [
              "array([[False, False, False, False],\n",
              "       [False, False, False, False],\n",
              "       [False, False, False, False],\n",
              "       [False, False, False, False]])"
            ]
          },
          "metadata": {},
          "execution_count": 97
        }
      ]
    },
    {
      "cell_type": "code",
      "source": [
        "# <\n",
        "array1"
      ],
      "metadata": {
        "colab": {
          "base_uri": "https://localhost:8080/"
        },
        "id": "D3AwCIs4zF0C",
        "outputId": "4970ba92-115f-49d2-d3ca-4f117534d8b3"
      },
      "execution_count": 98,
      "outputs": [
        {
          "output_type": "execute_result",
          "data": {
            "text/plain": [
              "array([[0.99850523, 0.93682957, 0.16430795, 0.94314313],\n",
              "       [0.22259848, 0.62297715, 0.1076509 , 0.59303357],\n",
              "       [0.35359785, 0.62840834, 0.87646969, 0.52574589],\n",
              "       [0.01236074, 0.71850434, 0.34920134, 0.16846826]])"
            ]
          },
          "metadata": {},
          "execution_count": 98
        }
      ]
    },
    {
      "cell_type": "code",
      "source": [
        "array1>0.5"
      ],
      "metadata": {
        "colab": {
          "base_uri": "https://localhost:8080/"
        },
        "id": "MzKxIdfuzMYC",
        "outputId": "0c4facff-5de2-4128-8016-db4e56e7c31a"
      },
      "execution_count": 100,
      "outputs": [
        {
          "output_type": "execute_result",
          "data": {
            "text/plain": [
              "array([[ True,  True, False,  True],\n",
              "       [False,  True, False,  True],\n",
              "       [False,  True,  True,  True],\n",
              "       [False,  True, False, False]])"
            ]
          },
          "metadata": {},
          "execution_count": 100
        }
      ]
    },
    {
      "cell_type": "code",
      "source": [
        "# <= / >=\n",
        "array2"
      ],
      "metadata": {
        "colab": {
          "base_uri": "https://localhost:8080/"
        },
        "id": "iCejzqu0zZvD",
        "outputId": "a0d633d0-2e89-422b-ee92-cb46296d9364"
      },
      "execution_count": 101,
      "outputs": [
        {
          "output_type": "execute_result",
          "data": {
            "text/plain": [
              "array([[0.98457121, 0.40028444, 0.3996612 , 0.46645083],\n",
              "       [0.49603115, 0.9862152 , 0.8048506 , 0.70247976],\n",
              "       [0.50742093, 0.73475983, 0.89832788, 0.42104252],\n",
              "       [0.41671087, 0.718465  , 0.66971818, 0.67226239]])"
            ]
          },
          "metadata": {},
          "execution_count": 101
        }
      ]
    },
    {
      "cell_type": "code",
      "source": [
        "array2 >=0.4"
      ],
      "metadata": {
        "colab": {
          "base_uri": "https://localhost:8080/"
        },
        "id": "AUs5ThCtzkOC",
        "outputId": "eae8928e-9786-4a5d-c356-ed244347065a"
      },
      "execution_count": 103,
      "outputs": [
        {
          "output_type": "execute_result",
          "data": {
            "text/plain": [
              "array([[ True,  True, False,  True],\n",
              "       [ True,  True,  True,  True],\n",
              "       [ True,  True,  True,  True],\n",
              "       [ True,  True,  True,  True]])"
            ]
          },
          "metadata": {},
          "execution_count": 103
        }
      ]
    },
    {
      "cell_type": "markdown",
      "source": [
        "Estadisticas y Funciones"
      ],
      "metadata": {
        "id": "K_gY0EwFz0cL"
      }
    },
    {
      "cell_type": "code",
      "source": [
        "array6 = np.random.random((5,5))\n",
        "array6"
      ],
      "metadata": {
        "colab": {
          "base_uri": "https://localhost:8080/"
        },
        "id": "2iqg_2o1z4F8",
        "outputId": "8c2c8bda-e810-48e3-87b4-7343797b0940"
      },
      "execution_count": 105,
      "outputs": [
        {
          "output_type": "execute_result",
          "data": {
            "text/plain": [
              "array([[0.9771364 , 0.9021658 , 0.33436112, 0.78178813, 0.23775466],\n",
              "       [0.03547703, 0.90955851, 0.76075636, 0.97820115, 0.84217814],\n",
              "       [0.97648001, 0.22226073, 0.38917378, 0.68176838, 0.49059634],\n",
              "       [0.18133668, 0.08114621, 0.84299718, 0.47927528, 0.87897794],\n",
              "       [0.12134041, 0.87194881, 0.05140457, 0.09950734, 0.99657033]])"
            ]
          },
          "metadata": {},
          "execution_count": 105
        }
      ]
    },
    {
      "cell_type": "code",
      "source": [
        "#Suma de elementos\n",
        "sumaTotal= array6.sum()\n",
        "print(sumaTotal)"
      ],
      "metadata": {
        "colab": {
          "base_uri": "https://localhost:8080/"
        },
        "id": "vSzSIRQT0pXL",
        "outputId": "78b068d4-e54f-47c4-d462-bbb83055c6b6"
      },
      "execution_count": 108,
      "outputs": [
        {
          "output_type": "stream",
          "name": "stdout",
          "text": [
            "14.12416129716795\n"
          ]
        }
      ]
    },
    {
      "cell_type": "code",
      "source": [
        "#valor minimo - maximo\n",
        "array6.max()"
      ],
      "metadata": {
        "colab": {
          "base_uri": "https://localhost:8080/"
        },
        "id": "9FsoZAsV0-c7",
        "outputId": "796fc657-d2fc-45f7-b685-3afd857f89c0"
      },
      "execution_count": 110,
      "outputs": [
        {
          "output_type": "execute_result",
          "data": {
            "text/plain": [
              "np.float64(0.9965703322981494)"
            ]
          },
          "metadata": {},
          "execution_count": 110
        }
      ]
    },
    {
      "cell_type": "code",
      "source": [
        "#maximo por fila o columna\n",
        "array6.max(axis=1)"
      ],
      "metadata": {
        "colab": {
          "base_uri": "https://localhost:8080/"
        },
        "id": "AhgvyS3o1Ri6",
        "outputId": "ec8aa824-ca72-42d0-8149-29e147aa5d12"
      },
      "execution_count": 112,
      "outputs": [
        {
          "output_type": "execute_result",
          "data": {
            "text/plain": [
              "array([0.9771364 , 0.97820115, 0.97648001, 0.87897794, 0.99657033])"
            ]
          },
          "metadata": {},
          "execution_count": 112
        }
      ]
    },
    {
      "cell_type": "code",
      "source": [
        "#fila acumulada\n",
        "array6.cumsum(axis=1)"
      ],
      "metadata": {
        "colab": {
          "base_uri": "https://localhost:8080/"
        },
        "id": "zMR8bD2T1qvj",
        "outputId": "0e49ad34-dee2-4b96-dfc6-f4ddf20a0da2"
      },
      "execution_count": 113,
      "outputs": [
        {
          "output_type": "execute_result",
          "data": {
            "text/plain": [
              "array([[0.9771364 , 1.8793022 , 2.21366332, 2.99545145, 3.23320611],\n",
              "       [0.03547703, 0.94503554, 1.7057919 , 2.68399305, 3.52617119],\n",
              "       [0.97648001, 1.19874074, 1.58791452, 2.2696829 , 2.76027924],\n",
              "       [0.18133668, 0.26248289, 1.10548007, 1.58475535, 2.46373329],\n",
              "       [0.12134041, 0.99328922, 1.04469379, 1.14420114, 2.14077147]])"
            ]
          },
          "metadata": {},
          "execution_count": 113
        }
      ]
    },
    {
      "cell_type": "code",
      "source": [
        "#media\n",
        "np.mean(array6)"
      ],
      "metadata": {
        "colab": {
          "base_uri": "https://localhost:8080/"
        },
        "id": "7W5bLHfb14Vd",
        "outputId": "c47fb72d-ed10-4dc0-e422-c461eaac74b2"
      },
      "execution_count": 114,
      "outputs": [
        {
          "output_type": "execute_result",
          "data": {
            "text/plain": [
              "np.float64(0.564966451886718)"
            ]
          },
          "metadata": {},
          "execution_count": 114
        }
      ]
    },
    {
      "cell_type": "code",
      "source": [
        "#mediana\n",
        "np.median(array6)"
      ],
      "metadata": {
        "colab": {
          "base_uri": "https://localhost:8080/"
        },
        "id": "nWj64gNz2CMk",
        "outputId": "5749a853-2efb-4245-ae66-733e61e422ee"
      },
      "execution_count": 115,
      "outputs": [
        {
          "output_type": "execute_result",
          "data": {
            "text/plain": [
              "np.float64(0.6817683752379019)"
            ]
          },
          "metadata": {},
          "execution_count": 115
        }
      ]
    },
    {
      "cell_type": "code",
      "source": [
        "#desviacion estandar\n",
        "np.std(array6)"
      ],
      "metadata": {
        "colab": {
          "base_uri": "https://localhost:8080/"
        },
        "id": "dE3AQfro2Jhk",
        "outputId": "d074a270-9e8c-4e1e-8fe1-8d5d0780463d"
      },
      "execution_count": 116,
      "outputs": [
        {
          "output_type": "execute_result",
          "data": {
            "text/plain": [
              "np.float64(0.34842397427206917)"
            ]
          },
          "metadata": {},
          "execution_count": 116
        }
      ]
    }
  ]
}